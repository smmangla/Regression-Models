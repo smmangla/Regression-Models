{
  "nbformat": 4,
  "nbformat_minor": 0,
  "metadata": {
    "colab": {
      "name": "Automated_Airport_Weather_Observations .ipynb",
      "provenance": [],
      "collapsed_sections": []
    },
    "kernelspec": {
      "name": "python3",
      "display_name": "Python 3"
    }
  },
  "cells": [
    {
      "cell_type": "markdown",
      "metadata": {
        "id": "alLSUpwayTYX",
        "colab_type": "text"
      },
      "source": [
        "Author: Smridhi Mangla\n",
        "*   Reference: https://mesonet.agron.iastate.edu/request/download.phtml?network=CT_ASOS"
      ]
    },
    {
      "cell_type": "markdown",
      "metadata": {
        "id": "aU5Z3I2K-JE6",
        "colab_type": "text"
      },
      "source": [
        "# Data Preparation\n"
      ]
    },
    {
      "cell_type": "code",
      "metadata": {
        "id": "p6m2zzA09Z3Z",
        "colab_type": "code",
        "colab": {
          "base_uri": "https://localhost:8080/",
          "height": 33
        },
        "outputId": "f22d9854-0e4c-4844-b98d-7af69c3c7877"
      },
      "source": [
        "#load file\n",
        "from google.colab import drive\n",
        "drive.mount('/content/drive')"
      ],
      "execution_count": 64,
      "outputs": [
        {
          "output_type": "stream",
          "text": [
            "Drive already mounted at /content/drive; to attempt to forcibly remount, call drive.mount(\"/content/drive\", force_remount=True).\n"
          ],
          "name": "stdout"
        }
      ]
    },
    {
      "cell_type": "code",
      "metadata": {
        "id": "pnO5jIXQ9kus",
        "colab_type": "code",
        "colab": {}
      },
      "source": [
        "import pandas as pd\n",
        "import numpy as np\n",
        "import warnings\n",
        "warnings.filterwarnings(\"ignore\")\n",
        "from sklearn.model_selection import train_test_split"
      ],
      "execution_count": 0,
      "outputs": []
    },
    {
      "cell_type": "code",
      "metadata": {
        "id": "fsc-pqNN9Yty",
        "colab_type": "code",
        "colab": {
          "base_uri": "https://localhost:8080/",
          "height": 33
        },
        "outputId": "1e1fc570-41f7-49a9-899a-1746b21a73c5"
      },
      "source": [
        "#load airport weather dataset\n",
        "df_airport_weather = pd.read_csv(\"/content/drive/My Drive/Data Science with Python Spring2020/week4_12feb2020/assignment_extra_credit/BDL_Jan2019.csv\")\n",
        "df_airport_weather.shape"
      ],
      "execution_count": 66,
      "outputs": [
        {
          "output_type": "execute_result",
          "data": {
            "text/plain": [
              "(9122, 31)"
            ]
          },
          "metadata": {
            "tags": []
          },
          "execution_count": 66
        }
      ]
    },
    {
      "cell_type": "code",
      "metadata": {
        "id": "SNla6yzo34de",
        "colab_type": "code",
        "outputId": "5760a439-f33a-408e-e5df-c21981571107",
        "colab": {
          "base_uri": "https://localhost:8080/",
          "height": 404
        }
      },
      "source": [
        "#subset the data\n",
        "df_subset=df_airport_weather[['station','valid','lon','lat','tmpf','dwpf','sknt','relh','drct','p01i','alti','mslp','gust']].copy()\n",
        "df_subset"
      ],
      "execution_count": 67,
      "outputs": [
        {
          "output_type": "execute_result",
          "data": {
            "text/html": [
              "<div>\n",
              "<style scoped>\n",
              "    .dataframe tbody tr th:only-of-type {\n",
              "        vertical-align: middle;\n",
              "    }\n",
              "\n",
              "    .dataframe tbody tr th {\n",
              "        vertical-align: top;\n",
              "    }\n",
              "\n",
              "    .dataframe thead th {\n",
              "        text-align: right;\n",
              "    }\n",
              "</style>\n",
              "<table border=\"1\" class=\"dataframe\">\n",
              "  <thead>\n",
              "    <tr style=\"text-align: right;\">\n",
              "      <th></th>\n",
              "      <th>station</th>\n",
              "      <th>valid</th>\n",
              "      <th>lon</th>\n",
              "      <th>lat</th>\n",
              "      <th>tmpf</th>\n",
              "      <th>dwpf</th>\n",
              "      <th>sknt</th>\n",
              "      <th>relh</th>\n",
              "      <th>drct</th>\n",
              "      <th>p01i</th>\n",
              "      <th>alti</th>\n",
              "      <th>mslp</th>\n",
              "      <th>gust</th>\n",
              "    </tr>\n",
              "  </thead>\n",
              "  <tbody>\n",
              "    <tr>\n",
              "      <th>0</th>\n",
              "      <td>BDL</td>\n",
              "      <td>1/1/2019 0:00</td>\n",
              "      <td>-72.6825</td>\n",
              "      <td>41.9381</td>\n",
              "      <td>M</td>\n",
              "      <td>M</td>\n",
              "      <td>5</td>\n",
              "      <td>M</td>\n",
              "      <td>110</td>\n",
              "      <td>0.01</td>\n",
              "      <td>30.17</td>\n",
              "      <td>M</td>\n",
              "      <td>M</td>\n",
              "    </tr>\n",
              "    <tr>\n",
              "      <th>1</th>\n",
              "      <td>BDL</td>\n",
              "      <td>1/1/2019 0:05</td>\n",
              "      <td>-72.6825</td>\n",
              "      <td>41.9381</td>\n",
              "      <td>M</td>\n",
              "      <td>M</td>\n",
              "      <td>4</td>\n",
              "      <td>M</td>\n",
              "      <td>120</td>\n",
              "      <td>0.01</td>\n",
              "      <td>30.16</td>\n",
              "      <td>M</td>\n",
              "      <td>M</td>\n",
              "    </tr>\n",
              "    <tr>\n",
              "      <th>2</th>\n",
              "      <td>BDL</td>\n",
              "      <td>1/1/2019 0:10</td>\n",
              "      <td>-72.6825</td>\n",
              "      <td>41.9381</td>\n",
              "      <td>M</td>\n",
              "      <td>M</td>\n",
              "      <td>4</td>\n",
              "      <td>M</td>\n",
              "      <td>110</td>\n",
              "      <td>0.02</td>\n",
              "      <td>30.16</td>\n",
              "      <td>M</td>\n",
              "      <td>M</td>\n",
              "    </tr>\n",
              "    <tr>\n",
              "      <th>3</th>\n",
              "      <td>BDL</td>\n",
              "      <td>1/1/2019 0:15</td>\n",
              "      <td>-72.6825</td>\n",
              "      <td>41.9381</td>\n",
              "      <td>M</td>\n",
              "      <td>M</td>\n",
              "      <td>3</td>\n",
              "      <td>M</td>\n",
              "      <td>110</td>\n",
              "      <td>0.03</td>\n",
              "      <td>30.16</td>\n",
              "      <td>M</td>\n",
              "      <td>M</td>\n",
              "    </tr>\n",
              "    <tr>\n",
              "      <th>4</th>\n",
              "      <td>BDL</td>\n",
              "      <td>1/1/2019 0:20</td>\n",
              "      <td>-72.6825</td>\n",
              "      <td>41.9381</td>\n",
              "      <td>M</td>\n",
              "      <td>M</td>\n",
              "      <td>3</td>\n",
              "      <td>M</td>\n",
              "      <td>100</td>\n",
              "      <td>0.04</td>\n",
              "      <td>30.15</td>\n",
              "      <td>M</td>\n",
              "      <td>M</td>\n",
              "    </tr>\n",
              "    <tr>\n",
              "      <th>...</th>\n",
              "      <td>...</td>\n",
              "      <td>...</td>\n",
              "      <td>...</td>\n",
              "      <td>...</td>\n",
              "      <td>...</td>\n",
              "      <td>...</td>\n",
              "      <td>...</td>\n",
              "      <td>...</td>\n",
              "      <td>...</td>\n",
              "      <td>...</td>\n",
              "      <td>...</td>\n",
              "      <td>...</td>\n",
              "      <td>...</td>\n",
              "    </tr>\n",
              "    <tr>\n",
              "      <th>9117</th>\n",
              "      <td>BDL</td>\n",
              "      <td>1/30/2019 23:40</td>\n",
              "      <td>-72.6825</td>\n",
              "      <td>41.9381</td>\n",
              "      <td>M</td>\n",
              "      <td>M</td>\n",
              "      <td>18</td>\n",
              "      <td>M</td>\n",
              "      <td>260</td>\n",
              "      <td>M</td>\n",
              "      <td>29.87</td>\n",
              "      <td>M</td>\n",
              "      <td>M</td>\n",
              "    </tr>\n",
              "    <tr>\n",
              "      <th>9118</th>\n",
              "      <td>BDL</td>\n",
              "      <td>1/30/2019 23:45</td>\n",
              "      <td>-72.6825</td>\n",
              "      <td>41.9381</td>\n",
              "      <td>M</td>\n",
              "      <td>M</td>\n",
              "      <td>19</td>\n",
              "      <td>M</td>\n",
              "      <td>260</td>\n",
              "      <td>M</td>\n",
              "      <td>29.88</td>\n",
              "      <td>M</td>\n",
              "      <td>M</td>\n",
              "    </tr>\n",
              "    <tr>\n",
              "      <th>9119</th>\n",
              "      <td>BDL</td>\n",
              "      <td>1/30/2019 23:50</td>\n",
              "      <td>-72.6825</td>\n",
              "      <td>41.9381</td>\n",
              "      <td>M</td>\n",
              "      <td>M</td>\n",
              "      <td>23</td>\n",
              "      <td>M</td>\n",
              "      <td>260</td>\n",
              "      <td>M</td>\n",
              "      <td>29.89</td>\n",
              "      <td>M</td>\n",
              "      <td>M</td>\n",
              "    </tr>\n",
              "    <tr>\n",
              "      <th>9120</th>\n",
              "      <td>BDL</td>\n",
              "      <td>1/30/2019 23:51</td>\n",
              "      <td>-72.6825</td>\n",
              "      <td>41.9381</td>\n",
              "      <td>16</td>\n",
              "      <td>5</td>\n",
              "      <td>23</td>\n",
              "      <td>61.23</td>\n",
              "      <td>270</td>\n",
              "      <td>T</td>\n",
              "      <td>29.89</td>\n",
              "      <td>1012.3</td>\n",
              "      <td>31</td>\n",
              "    </tr>\n",
              "    <tr>\n",
              "      <th>9121</th>\n",
              "      <td>BDL</td>\n",
              "      <td>1/30/2019 23:55</td>\n",
              "      <td>-72.6825</td>\n",
              "      <td>41.9381</td>\n",
              "      <td>M</td>\n",
              "      <td>M</td>\n",
              "      <td>19</td>\n",
              "      <td>M</td>\n",
              "      <td>260</td>\n",
              "      <td>M</td>\n",
              "      <td>29.89</td>\n",
              "      <td>M</td>\n",
              "      <td>M</td>\n",
              "    </tr>\n",
              "  </tbody>\n",
              "</table>\n",
              "<p>9122 rows × 13 columns</p>\n",
              "</div>"
            ],
            "text/plain": [
              "     station            valid      lon      lat  ...  p01i   alti    mslp gust\n",
              "0        BDL    1/1/2019 0:00 -72.6825  41.9381  ...  0.01  30.17       M    M\n",
              "1        BDL    1/1/2019 0:05 -72.6825  41.9381  ...  0.01  30.16       M    M\n",
              "2        BDL    1/1/2019 0:10 -72.6825  41.9381  ...  0.02  30.16       M    M\n",
              "3        BDL    1/1/2019 0:15 -72.6825  41.9381  ...  0.03  30.16       M    M\n",
              "4        BDL    1/1/2019 0:20 -72.6825  41.9381  ...  0.04  30.15       M    M\n",
              "...      ...              ...      ...      ...  ...   ...    ...     ...  ...\n",
              "9117     BDL  1/30/2019 23:40 -72.6825  41.9381  ...     M  29.87       M    M\n",
              "9118     BDL  1/30/2019 23:45 -72.6825  41.9381  ...     M  29.88       M    M\n",
              "9119     BDL  1/30/2019 23:50 -72.6825  41.9381  ...     M  29.89       M    M\n",
              "9120     BDL  1/30/2019 23:51 -72.6825  41.9381  ...     T  29.89  1012.3   31\n",
              "9121     BDL  1/30/2019 23:55 -72.6825  41.9381  ...     M  29.89       M    M\n",
              "\n",
              "[9122 rows x 13 columns]"
            ]
          },
          "metadata": {
            "tags": []
          },
          "execution_count": 67
        }
      ]
    },
    {
      "cell_type": "markdown",
      "metadata": {
        "id": "QgHt_LFAJxGm",
        "colab_type": "text"
      },
      "source": [
        "# Data Preprocessing"
      ]
    },
    {
      "cell_type": "code",
      "metadata": {
        "id": "Exz_-nAM7m8T",
        "colab_type": "code",
        "outputId": "9b6e049c-de43-4940-cd89-b8990563c982",
        "colab": {
          "base_uri": "https://localhost:8080/",
          "height": 251
        }
      },
      "source": [
        "#Cleaning up the tmpf, sknt and dwpf columns ‘M’/'T' counts as NA values\n",
        "df_subset=df_subset.replace('M',np.nan)\n",
        "df_subset=df_subset.replace('T',np.nan)\n",
        "df_subset.isna"
      ],
      "execution_count": 68,
      "outputs": [
        {
          "output_type": "execute_result",
          "data": {
            "text/plain": [
              "<bound method DataFrame.isna of      station            valid      lon      lat  ...  p01i   alti    mslp gust\n",
              "0        BDL    1/1/2019 0:00 -72.6825  41.9381  ...  0.01  30.17     NaN  NaN\n",
              "1        BDL    1/1/2019 0:05 -72.6825  41.9381  ...  0.01  30.16     NaN  NaN\n",
              "2        BDL    1/1/2019 0:10 -72.6825  41.9381  ...  0.02  30.16     NaN  NaN\n",
              "3        BDL    1/1/2019 0:15 -72.6825  41.9381  ...  0.03  30.16     NaN  NaN\n",
              "4        BDL    1/1/2019 0:20 -72.6825  41.9381  ...  0.04  30.15     NaN  NaN\n",
              "...      ...              ...      ...      ...  ...   ...    ...     ...  ...\n",
              "9117     BDL  1/30/2019 23:40 -72.6825  41.9381  ...   NaN  29.87     NaN  NaN\n",
              "9118     BDL  1/30/2019 23:45 -72.6825  41.9381  ...   NaN  29.88     NaN  NaN\n",
              "9119     BDL  1/30/2019 23:50 -72.6825  41.9381  ...   NaN  29.89     NaN  NaN\n",
              "9120     BDL  1/30/2019 23:51 -72.6825  41.9381  ...   NaN  29.89  1012.3   31\n",
              "9121     BDL  1/30/2019 23:55 -72.6825  41.9381  ...   NaN  29.89     NaN  NaN\n",
              "\n",
              "[9122 rows x 13 columns]>"
            ]
          },
          "metadata": {
            "tags": []
          },
          "execution_count": 68
        }
      ]
    },
    {
      "cell_type": "code",
      "metadata": {
        "id": "OM56JNqF9eNS",
        "colab_type": "code",
        "outputId": "aa31b201-a8bf-4369-d2f6-de7f521250bd",
        "colab": {
          "base_uri": "https://localhost:8080/",
          "height": 404
        }
      },
      "source": [
        "#Droping all NA rows\n",
        "df_subset = df_subset.dropna()\n",
        "df_subset"
      ],
      "execution_count": 69,
      "outputs": [
        {
          "output_type": "execute_result",
          "data": {
            "text/html": [
              "<div>\n",
              "<style scoped>\n",
              "    .dataframe tbody tr th:only-of-type {\n",
              "        vertical-align: middle;\n",
              "    }\n",
              "\n",
              "    .dataframe tbody tr th {\n",
              "        vertical-align: top;\n",
              "    }\n",
              "\n",
              "    .dataframe thead th {\n",
              "        text-align: right;\n",
              "    }\n",
              "</style>\n",
              "<table border=\"1\" class=\"dataframe\">\n",
              "  <thead>\n",
              "    <tr style=\"text-align: right;\">\n",
              "      <th></th>\n",
              "      <th>station</th>\n",
              "      <th>valid</th>\n",
              "      <th>lon</th>\n",
              "      <th>lat</th>\n",
              "      <th>tmpf</th>\n",
              "      <th>dwpf</th>\n",
              "      <th>sknt</th>\n",
              "      <th>relh</th>\n",
              "      <th>drct</th>\n",
              "      <th>p01i</th>\n",
              "      <th>alti</th>\n",
              "      <th>mslp</th>\n",
              "      <th>gust</th>\n",
              "    </tr>\n",
              "  </thead>\n",
              "  <tbody>\n",
              "    <tr>\n",
              "      <th>207</th>\n",
              "      <td>BDL</td>\n",
              "      <td>1/1/2019 15:51</td>\n",
              "      <td>-72.6825</td>\n",
              "      <td>41.9381</td>\n",
              "      <td>53.1</td>\n",
              "      <td>41</td>\n",
              "      <td>17</td>\n",
              "      <td>63.38</td>\n",
              "      <td>320</td>\n",
              "      <td>0</td>\n",
              "      <td>29.68</td>\n",
              "      <td>1005.2</td>\n",
              "      <td>26</td>\n",
              "    </tr>\n",
              "    <tr>\n",
              "      <th>220</th>\n",
              "      <td>BDL</td>\n",
              "      <td>1/1/2019 16:51</td>\n",
              "      <td>-72.6825</td>\n",
              "      <td>41.9381</td>\n",
              "      <td>51.1</td>\n",
              "      <td>33.1</td>\n",
              "      <td>19</td>\n",
              "      <td>49.98</td>\n",
              "      <td>310</td>\n",
              "      <td>0</td>\n",
              "      <td>29.74</td>\n",
              "      <td>1007.3</td>\n",
              "      <td>28</td>\n",
              "    </tr>\n",
              "    <tr>\n",
              "      <th>232</th>\n",
              "      <td>BDL</td>\n",
              "      <td>1/1/2019 17:51</td>\n",
              "      <td>-72.6825</td>\n",
              "      <td>41.9381</td>\n",
              "      <td>48.9</td>\n",
              "      <td>30.9</td>\n",
              "      <td>20</td>\n",
              "      <td>49.63</td>\n",
              "      <td>310</td>\n",
              "      <td>0</td>\n",
              "      <td>29.77</td>\n",
              "      <td>1008.1</td>\n",
              "      <td>30</td>\n",
              "    </tr>\n",
              "    <tr>\n",
              "      <th>244</th>\n",
              "      <td>BDL</td>\n",
              "      <td>1/1/2019 18:51</td>\n",
              "      <td>-72.6825</td>\n",
              "      <td>41.9381</td>\n",
              "      <td>46</td>\n",
              "      <td>30</td>\n",
              "      <td>17</td>\n",
              "      <td>53.37</td>\n",
              "      <td>330</td>\n",
              "      <td>0</td>\n",
              "      <td>29.81</td>\n",
              "      <td>1009.4</td>\n",
              "      <td>26</td>\n",
              "    </tr>\n",
              "    <tr>\n",
              "      <th>255</th>\n",
              "      <td>BDL</td>\n",
              "      <td>1/1/2019 19:51</td>\n",
              "      <td>-72.6825</td>\n",
              "      <td>41.9381</td>\n",
              "      <td>43</td>\n",
              "      <td>28.9</td>\n",
              "      <td>27</td>\n",
              "      <td>57.21</td>\n",
              "      <td>300</td>\n",
              "      <td>0</td>\n",
              "      <td>29.88</td>\n",
              "      <td>1011.9</td>\n",
              "      <td>34</td>\n",
              "    </tr>\n",
              "    <tr>\n",
              "      <th>...</th>\n",
              "      <td>...</td>\n",
              "      <td>...</td>\n",
              "      <td>...</td>\n",
              "      <td>...</td>\n",
              "      <td>...</td>\n",
              "      <td>...</td>\n",
              "      <td>...</td>\n",
              "      <td>...</td>\n",
              "      <td>...</td>\n",
              "      <td>...</td>\n",
              "      <td>...</td>\n",
              "      <td>...</td>\n",
              "      <td>...</td>\n",
              "    </tr>\n",
              "    <tr>\n",
              "      <th>8141</th>\n",
              "      <td>BDL</td>\n",
              "      <td>1/27/2019 19:51</td>\n",
              "      <td>-72.6825</td>\n",
              "      <td>41.9381</td>\n",
              "      <td>44.1</td>\n",
              "      <td>27</td>\n",
              "      <td>14</td>\n",
              "      <td>50.73</td>\n",
              "      <td>190</td>\n",
              "      <td>0</td>\n",
              "      <td>29.9</td>\n",
              "      <td>1012.7</td>\n",
              "      <td>25</td>\n",
              "    </tr>\n",
              "    <tr>\n",
              "      <th>8297</th>\n",
              "      <td>BDL</td>\n",
              "      <td>1/28/2019 7:51</td>\n",
              "      <td>-72.6825</td>\n",
              "      <td>41.9381</td>\n",
              "      <td>24.1</td>\n",
              "      <td>10</td>\n",
              "      <td>13</td>\n",
              "      <td>54.36</td>\n",
              "      <td>340</td>\n",
              "      <td>0</td>\n",
              "      <td>30.06</td>\n",
              "      <td>1018</td>\n",
              "      <td>18</td>\n",
              "    </tr>\n",
              "    <tr>\n",
              "      <th>8950</th>\n",
              "      <td>BDL</td>\n",
              "      <td>1/30/2019 10:51</td>\n",
              "      <td>-72.6825</td>\n",
              "      <td>41.9381</td>\n",
              "      <td>25</td>\n",
              "      <td>15.1</td>\n",
              "      <td>13</td>\n",
              "      <td>65.58</td>\n",
              "      <td>330</td>\n",
              "      <td>0</td>\n",
              "      <td>29.8</td>\n",
              "      <td>1009.5</td>\n",
              "      <td>21</td>\n",
              "    </tr>\n",
              "    <tr>\n",
              "      <th>9053</th>\n",
              "      <td>BDL</td>\n",
              "      <td>1/30/2019 18:51</td>\n",
              "      <td>-72.6825</td>\n",
              "      <td>41.9381</td>\n",
              "      <td>27</td>\n",
              "      <td>7</td>\n",
              "      <td>14</td>\n",
              "      <td>42.11</td>\n",
              "      <td>230</td>\n",
              "      <td>0</td>\n",
              "      <td>29.77</td>\n",
              "      <td>1008.3</td>\n",
              "      <td>21</td>\n",
              "    </tr>\n",
              "    <tr>\n",
              "      <th>9077</th>\n",
              "      <td>BDL</td>\n",
              "      <td>1/30/2019 20:51</td>\n",
              "      <td>-72.6825</td>\n",
              "      <td>41.9381</td>\n",
              "      <td>28</td>\n",
              "      <td>7</td>\n",
              "      <td>8</td>\n",
              "      <td>40.41</td>\n",
              "      <td>190</td>\n",
              "      <td>0</td>\n",
              "      <td>29.73</td>\n",
              "      <td>1006.8</td>\n",
              "      <td>16</td>\n",
              "    </tr>\n",
              "  </tbody>\n",
              "</table>\n",
              "<p>125 rows × 13 columns</p>\n",
              "</div>"
            ],
            "text/plain": [
              "     station            valid      lon      lat  ... p01i   alti    mslp gust\n",
              "207      BDL   1/1/2019 15:51 -72.6825  41.9381  ...    0  29.68  1005.2   26\n",
              "220      BDL   1/1/2019 16:51 -72.6825  41.9381  ...    0  29.74  1007.3   28\n",
              "232      BDL   1/1/2019 17:51 -72.6825  41.9381  ...    0  29.77  1008.1   30\n",
              "244      BDL   1/1/2019 18:51 -72.6825  41.9381  ...    0  29.81  1009.4   26\n",
              "255      BDL   1/1/2019 19:51 -72.6825  41.9381  ...    0  29.88  1011.9   34\n",
              "...      ...              ...      ...      ...  ...  ...    ...     ...  ...\n",
              "8141     BDL  1/27/2019 19:51 -72.6825  41.9381  ...    0   29.9  1012.7   25\n",
              "8297     BDL   1/28/2019 7:51 -72.6825  41.9381  ...    0  30.06    1018   18\n",
              "8950     BDL  1/30/2019 10:51 -72.6825  41.9381  ...    0   29.8  1009.5   21\n",
              "9053     BDL  1/30/2019 18:51 -72.6825  41.9381  ...    0  29.77  1008.3   21\n",
              "9077     BDL  1/30/2019 20:51 -72.6825  41.9381  ...    0  29.73  1006.8   16\n",
              "\n",
              "[125 rows x 13 columns]"
            ]
          },
          "metadata": {
            "tags": []
          },
          "execution_count": 69
        }
      ]
    },
    {
      "cell_type": "code",
      "metadata": {
        "id": "UUMGdWur_kNB",
        "colab_type": "code",
        "outputId": "bf1f1545-0bdc-4b9f-ee1e-b844078e72b4",
        "colab": {
          "base_uri": "https://localhost:8080/",
          "height": 217
        }
      },
      "source": [
        "#Converting date using proper format \n",
        "df_subset.dtypes\n",
        "df_subset['valid']= pd.to_datetime(df_subset['valid'])  \n",
        "df_subset['valid']"
      ],
      "execution_count": 70,
      "outputs": [
        {
          "output_type": "execute_result",
          "data": {
            "text/plain": [
              "207    2019-01-01 15:51:00\n",
              "220    2019-01-01 16:51:00\n",
              "232    2019-01-01 17:51:00\n",
              "244    2019-01-01 18:51:00\n",
              "255    2019-01-01 19:51:00\n",
              "               ...        \n",
              "8141   2019-01-27 19:51:00\n",
              "8297   2019-01-28 07:51:00\n",
              "8950   2019-01-30 10:51:00\n",
              "9053   2019-01-30 18:51:00\n",
              "9077   2019-01-30 20:51:00\n",
              "Name: valid, Length: 125, dtype: datetime64[ns]"
            ]
          },
          "metadata": {
            "tags": []
          },
          "execution_count": 70
        }
      ]
    },
    {
      "cell_type": "code",
      "metadata": {
        "id": "nXezoDKX4lJA",
        "colab_type": "code",
        "outputId": "3779a21d-72cb-42e7-d4a5-f0be256338a8",
        "colab": {
          "base_uri": "https://localhost:8080/",
          "height": 404
        }
      },
      "source": [
        "#Creating columns for MONTH, DAY and YEAR\n",
        "df_subset['day'] = pd.to_datetime(df_subset['valid']).dt.day\n",
        "df_subset['month'] = pd.to_datetime(df_subset['valid']).dt.month\n",
        "df_subset['year'] = pd.to_datetime(df_subset['valid']).dt.year\n",
        "df_subset\n"
      ],
      "execution_count": 71,
      "outputs": [
        {
          "output_type": "execute_result",
          "data": {
            "text/html": [
              "<div>\n",
              "<style scoped>\n",
              "    .dataframe tbody tr th:only-of-type {\n",
              "        vertical-align: middle;\n",
              "    }\n",
              "\n",
              "    .dataframe tbody tr th {\n",
              "        vertical-align: top;\n",
              "    }\n",
              "\n",
              "    .dataframe thead th {\n",
              "        text-align: right;\n",
              "    }\n",
              "</style>\n",
              "<table border=\"1\" class=\"dataframe\">\n",
              "  <thead>\n",
              "    <tr style=\"text-align: right;\">\n",
              "      <th></th>\n",
              "      <th>station</th>\n",
              "      <th>valid</th>\n",
              "      <th>lon</th>\n",
              "      <th>lat</th>\n",
              "      <th>tmpf</th>\n",
              "      <th>dwpf</th>\n",
              "      <th>sknt</th>\n",
              "      <th>relh</th>\n",
              "      <th>drct</th>\n",
              "      <th>p01i</th>\n",
              "      <th>alti</th>\n",
              "      <th>mslp</th>\n",
              "      <th>gust</th>\n",
              "      <th>day</th>\n",
              "      <th>month</th>\n",
              "      <th>year</th>\n",
              "    </tr>\n",
              "  </thead>\n",
              "  <tbody>\n",
              "    <tr>\n",
              "      <th>207</th>\n",
              "      <td>BDL</td>\n",
              "      <td>2019-01-01 15:51:00</td>\n",
              "      <td>-72.6825</td>\n",
              "      <td>41.9381</td>\n",
              "      <td>53.1</td>\n",
              "      <td>41</td>\n",
              "      <td>17</td>\n",
              "      <td>63.38</td>\n",
              "      <td>320</td>\n",
              "      <td>0</td>\n",
              "      <td>29.68</td>\n",
              "      <td>1005.2</td>\n",
              "      <td>26</td>\n",
              "      <td>1</td>\n",
              "      <td>1</td>\n",
              "      <td>2019</td>\n",
              "    </tr>\n",
              "    <tr>\n",
              "      <th>220</th>\n",
              "      <td>BDL</td>\n",
              "      <td>2019-01-01 16:51:00</td>\n",
              "      <td>-72.6825</td>\n",
              "      <td>41.9381</td>\n",
              "      <td>51.1</td>\n",
              "      <td>33.1</td>\n",
              "      <td>19</td>\n",
              "      <td>49.98</td>\n",
              "      <td>310</td>\n",
              "      <td>0</td>\n",
              "      <td>29.74</td>\n",
              "      <td>1007.3</td>\n",
              "      <td>28</td>\n",
              "      <td>1</td>\n",
              "      <td>1</td>\n",
              "      <td>2019</td>\n",
              "    </tr>\n",
              "    <tr>\n",
              "      <th>232</th>\n",
              "      <td>BDL</td>\n",
              "      <td>2019-01-01 17:51:00</td>\n",
              "      <td>-72.6825</td>\n",
              "      <td>41.9381</td>\n",
              "      <td>48.9</td>\n",
              "      <td>30.9</td>\n",
              "      <td>20</td>\n",
              "      <td>49.63</td>\n",
              "      <td>310</td>\n",
              "      <td>0</td>\n",
              "      <td>29.77</td>\n",
              "      <td>1008.1</td>\n",
              "      <td>30</td>\n",
              "      <td>1</td>\n",
              "      <td>1</td>\n",
              "      <td>2019</td>\n",
              "    </tr>\n",
              "    <tr>\n",
              "      <th>244</th>\n",
              "      <td>BDL</td>\n",
              "      <td>2019-01-01 18:51:00</td>\n",
              "      <td>-72.6825</td>\n",
              "      <td>41.9381</td>\n",
              "      <td>46</td>\n",
              "      <td>30</td>\n",
              "      <td>17</td>\n",
              "      <td>53.37</td>\n",
              "      <td>330</td>\n",
              "      <td>0</td>\n",
              "      <td>29.81</td>\n",
              "      <td>1009.4</td>\n",
              "      <td>26</td>\n",
              "      <td>1</td>\n",
              "      <td>1</td>\n",
              "      <td>2019</td>\n",
              "    </tr>\n",
              "    <tr>\n",
              "      <th>255</th>\n",
              "      <td>BDL</td>\n",
              "      <td>2019-01-01 19:51:00</td>\n",
              "      <td>-72.6825</td>\n",
              "      <td>41.9381</td>\n",
              "      <td>43</td>\n",
              "      <td>28.9</td>\n",
              "      <td>27</td>\n",
              "      <td>57.21</td>\n",
              "      <td>300</td>\n",
              "      <td>0</td>\n",
              "      <td>29.88</td>\n",
              "      <td>1011.9</td>\n",
              "      <td>34</td>\n",
              "      <td>1</td>\n",
              "      <td>1</td>\n",
              "      <td>2019</td>\n",
              "    </tr>\n",
              "    <tr>\n",
              "      <th>...</th>\n",
              "      <td>...</td>\n",
              "      <td>...</td>\n",
              "      <td>...</td>\n",
              "      <td>...</td>\n",
              "      <td>...</td>\n",
              "      <td>...</td>\n",
              "      <td>...</td>\n",
              "      <td>...</td>\n",
              "      <td>...</td>\n",
              "      <td>...</td>\n",
              "      <td>...</td>\n",
              "      <td>...</td>\n",
              "      <td>...</td>\n",
              "      <td>...</td>\n",
              "      <td>...</td>\n",
              "      <td>...</td>\n",
              "    </tr>\n",
              "    <tr>\n",
              "      <th>8141</th>\n",
              "      <td>BDL</td>\n",
              "      <td>2019-01-27 19:51:00</td>\n",
              "      <td>-72.6825</td>\n",
              "      <td>41.9381</td>\n",
              "      <td>44.1</td>\n",
              "      <td>27</td>\n",
              "      <td>14</td>\n",
              "      <td>50.73</td>\n",
              "      <td>190</td>\n",
              "      <td>0</td>\n",
              "      <td>29.9</td>\n",
              "      <td>1012.7</td>\n",
              "      <td>25</td>\n",
              "      <td>27</td>\n",
              "      <td>1</td>\n",
              "      <td>2019</td>\n",
              "    </tr>\n",
              "    <tr>\n",
              "      <th>8297</th>\n",
              "      <td>BDL</td>\n",
              "      <td>2019-01-28 07:51:00</td>\n",
              "      <td>-72.6825</td>\n",
              "      <td>41.9381</td>\n",
              "      <td>24.1</td>\n",
              "      <td>10</td>\n",
              "      <td>13</td>\n",
              "      <td>54.36</td>\n",
              "      <td>340</td>\n",
              "      <td>0</td>\n",
              "      <td>30.06</td>\n",
              "      <td>1018</td>\n",
              "      <td>18</td>\n",
              "      <td>28</td>\n",
              "      <td>1</td>\n",
              "      <td>2019</td>\n",
              "    </tr>\n",
              "    <tr>\n",
              "      <th>8950</th>\n",
              "      <td>BDL</td>\n",
              "      <td>2019-01-30 10:51:00</td>\n",
              "      <td>-72.6825</td>\n",
              "      <td>41.9381</td>\n",
              "      <td>25</td>\n",
              "      <td>15.1</td>\n",
              "      <td>13</td>\n",
              "      <td>65.58</td>\n",
              "      <td>330</td>\n",
              "      <td>0</td>\n",
              "      <td>29.8</td>\n",
              "      <td>1009.5</td>\n",
              "      <td>21</td>\n",
              "      <td>30</td>\n",
              "      <td>1</td>\n",
              "      <td>2019</td>\n",
              "    </tr>\n",
              "    <tr>\n",
              "      <th>9053</th>\n",
              "      <td>BDL</td>\n",
              "      <td>2019-01-30 18:51:00</td>\n",
              "      <td>-72.6825</td>\n",
              "      <td>41.9381</td>\n",
              "      <td>27</td>\n",
              "      <td>7</td>\n",
              "      <td>14</td>\n",
              "      <td>42.11</td>\n",
              "      <td>230</td>\n",
              "      <td>0</td>\n",
              "      <td>29.77</td>\n",
              "      <td>1008.3</td>\n",
              "      <td>21</td>\n",
              "      <td>30</td>\n",
              "      <td>1</td>\n",
              "      <td>2019</td>\n",
              "    </tr>\n",
              "    <tr>\n",
              "      <th>9077</th>\n",
              "      <td>BDL</td>\n",
              "      <td>2019-01-30 20:51:00</td>\n",
              "      <td>-72.6825</td>\n",
              "      <td>41.9381</td>\n",
              "      <td>28</td>\n",
              "      <td>7</td>\n",
              "      <td>8</td>\n",
              "      <td>40.41</td>\n",
              "      <td>190</td>\n",
              "      <td>0</td>\n",
              "      <td>29.73</td>\n",
              "      <td>1006.8</td>\n",
              "      <td>16</td>\n",
              "      <td>30</td>\n",
              "      <td>1</td>\n",
              "      <td>2019</td>\n",
              "    </tr>\n",
              "  </tbody>\n",
              "</table>\n",
              "<p>125 rows × 16 columns</p>\n",
              "</div>"
            ],
            "text/plain": [
              "     station               valid      lon      lat  ... gust day month  year\n",
              "207      BDL 2019-01-01 15:51:00 -72.6825  41.9381  ...   26   1     1  2019\n",
              "220      BDL 2019-01-01 16:51:00 -72.6825  41.9381  ...   28   1     1  2019\n",
              "232      BDL 2019-01-01 17:51:00 -72.6825  41.9381  ...   30   1     1  2019\n",
              "244      BDL 2019-01-01 18:51:00 -72.6825  41.9381  ...   26   1     1  2019\n",
              "255      BDL 2019-01-01 19:51:00 -72.6825  41.9381  ...   34   1     1  2019\n",
              "...      ...                 ...      ...      ...  ...  ...  ..   ...   ...\n",
              "8141     BDL 2019-01-27 19:51:00 -72.6825  41.9381  ...   25  27     1  2019\n",
              "8297     BDL 2019-01-28 07:51:00 -72.6825  41.9381  ...   18  28     1  2019\n",
              "8950     BDL 2019-01-30 10:51:00 -72.6825  41.9381  ...   21  30     1  2019\n",
              "9053     BDL 2019-01-30 18:51:00 -72.6825  41.9381  ...   21  30     1  2019\n",
              "9077     BDL 2019-01-30 20:51:00 -72.6825  41.9381  ...   16  30     1  2019\n",
              "\n",
              "[125 rows x 16 columns]"
            ]
          },
          "metadata": {
            "tags": []
          },
          "execution_count": 71
        }
      ]
    },
    {
      "cell_type": "code",
      "metadata": {
        "id": "belJYWIiCypy",
        "colab_type": "code",
        "outputId": "83eea6fb-1741-4a50-a661-83133fcd1dab",
        "colab": {
          "base_uri": "https://localhost:8080/",
          "height": 404
        }
      },
      "source": [
        "#Creating a new column called MonthDay in “MM-DD” format\n",
        "df_subset['MonthDay'] = df_subset['month'].map(str) + '-' +  df_subset['day'].map(str) \n",
        "df_subset"
      ],
      "execution_count": 72,
      "outputs": [
        {
          "output_type": "execute_result",
          "data": {
            "text/html": [
              "<div>\n",
              "<style scoped>\n",
              "    .dataframe tbody tr th:only-of-type {\n",
              "        vertical-align: middle;\n",
              "    }\n",
              "\n",
              "    .dataframe tbody tr th {\n",
              "        vertical-align: top;\n",
              "    }\n",
              "\n",
              "    .dataframe thead th {\n",
              "        text-align: right;\n",
              "    }\n",
              "</style>\n",
              "<table border=\"1\" class=\"dataframe\">\n",
              "  <thead>\n",
              "    <tr style=\"text-align: right;\">\n",
              "      <th></th>\n",
              "      <th>station</th>\n",
              "      <th>valid</th>\n",
              "      <th>lon</th>\n",
              "      <th>lat</th>\n",
              "      <th>tmpf</th>\n",
              "      <th>dwpf</th>\n",
              "      <th>sknt</th>\n",
              "      <th>relh</th>\n",
              "      <th>drct</th>\n",
              "      <th>p01i</th>\n",
              "      <th>alti</th>\n",
              "      <th>mslp</th>\n",
              "      <th>gust</th>\n",
              "      <th>day</th>\n",
              "      <th>month</th>\n",
              "      <th>year</th>\n",
              "      <th>MonthDay</th>\n",
              "    </tr>\n",
              "  </thead>\n",
              "  <tbody>\n",
              "    <tr>\n",
              "      <th>207</th>\n",
              "      <td>BDL</td>\n",
              "      <td>2019-01-01 15:51:00</td>\n",
              "      <td>-72.6825</td>\n",
              "      <td>41.9381</td>\n",
              "      <td>53.1</td>\n",
              "      <td>41</td>\n",
              "      <td>17</td>\n",
              "      <td>63.38</td>\n",
              "      <td>320</td>\n",
              "      <td>0</td>\n",
              "      <td>29.68</td>\n",
              "      <td>1005.2</td>\n",
              "      <td>26</td>\n",
              "      <td>1</td>\n",
              "      <td>1</td>\n",
              "      <td>2019</td>\n",
              "      <td>1-1</td>\n",
              "    </tr>\n",
              "    <tr>\n",
              "      <th>220</th>\n",
              "      <td>BDL</td>\n",
              "      <td>2019-01-01 16:51:00</td>\n",
              "      <td>-72.6825</td>\n",
              "      <td>41.9381</td>\n",
              "      <td>51.1</td>\n",
              "      <td>33.1</td>\n",
              "      <td>19</td>\n",
              "      <td>49.98</td>\n",
              "      <td>310</td>\n",
              "      <td>0</td>\n",
              "      <td>29.74</td>\n",
              "      <td>1007.3</td>\n",
              "      <td>28</td>\n",
              "      <td>1</td>\n",
              "      <td>1</td>\n",
              "      <td>2019</td>\n",
              "      <td>1-1</td>\n",
              "    </tr>\n",
              "    <tr>\n",
              "      <th>232</th>\n",
              "      <td>BDL</td>\n",
              "      <td>2019-01-01 17:51:00</td>\n",
              "      <td>-72.6825</td>\n",
              "      <td>41.9381</td>\n",
              "      <td>48.9</td>\n",
              "      <td>30.9</td>\n",
              "      <td>20</td>\n",
              "      <td>49.63</td>\n",
              "      <td>310</td>\n",
              "      <td>0</td>\n",
              "      <td>29.77</td>\n",
              "      <td>1008.1</td>\n",
              "      <td>30</td>\n",
              "      <td>1</td>\n",
              "      <td>1</td>\n",
              "      <td>2019</td>\n",
              "      <td>1-1</td>\n",
              "    </tr>\n",
              "    <tr>\n",
              "      <th>244</th>\n",
              "      <td>BDL</td>\n",
              "      <td>2019-01-01 18:51:00</td>\n",
              "      <td>-72.6825</td>\n",
              "      <td>41.9381</td>\n",
              "      <td>46</td>\n",
              "      <td>30</td>\n",
              "      <td>17</td>\n",
              "      <td>53.37</td>\n",
              "      <td>330</td>\n",
              "      <td>0</td>\n",
              "      <td>29.81</td>\n",
              "      <td>1009.4</td>\n",
              "      <td>26</td>\n",
              "      <td>1</td>\n",
              "      <td>1</td>\n",
              "      <td>2019</td>\n",
              "      <td>1-1</td>\n",
              "    </tr>\n",
              "    <tr>\n",
              "      <th>255</th>\n",
              "      <td>BDL</td>\n",
              "      <td>2019-01-01 19:51:00</td>\n",
              "      <td>-72.6825</td>\n",
              "      <td>41.9381</td>\n",
              "      <td>43</td>\n",
              "      <td>28.9</td>\n",
              "      <td>27</td>\n",
              "      <td>57.21</td>\n",
              "      <td>300</td>\n",
              "      <td>0</td>\n",
              "      <td>29.88</td>\n",
              "      <td>1011.9</td>\n",
              "      <td>34</td>\n",
              "      <td>1</td>\n",
              "      <td>1</td>\n",
              "      <td>2019</td>\n",
              "      <td>1-1</td>\n",
              "    </tr>\n",
              "    <tr>\n",
              "      <th>...</th>\n",
              "      <td>...</td>\n",
              "      <td>...</td>\n",
              "      <td>...</td>\n",
              "      <td>...</td>\n",
              "      <td>...</td>\n",
              "      <td>...</td>\n",
              "      <td>...</td>\n",
              "      <td>...</td>\n",
              "      <td>...</td>\n",
              "      <td>...</td>\n",
              "      <td>...</td>\n",
              "      <td>...</td>\n",
              "      <td>...</td>\n",
              "      <td>...</td>\n",
              "      <td>...</td>\n",
              "      <td>...</td>\n",
              "      <td>...</td>\n",
              "    </tr>\n",
              "    <tr>\n",
              "      <th>8141</th>\n",
              "      <td>BDL</td>\n",
              "      <td>2019-01-27 19:51:00</td>\n",
              "      <td>-72.6825</td>\n",
              "      <td>41.9381</td>\n",
              "      <td>44.1</td>\n",
              "      <td>27</td>\n",
              "      <td>14</td>\n",
              "      <td>50.73</td>\n",
              "      <td>190</td>\n",
              "      <td>0</td>\n",
              "      <td>29.9</td>\n",
              "      <td>1012.7</td>\n",
              "      <td>25</td>\n",
              "      <td>27</td>\n",
              "      <td>1</td>\n",
              "      <td>2019</td>\n",
              "      <td>1-27</td>\n",
              "    </tr>\n",
              "    <tr>\n",
              "      <th>8297</th>\n",
              "      <td>BDL</td>\n",
              "      <td>2019-01-28 07:51:00</td>\n",
              "      <td>-72.6825</td>\n",
              "      <td>41.9381</td>\n",
              "      <td>24.1</td>\n",
              "      <td>10</td>\n",
              "      <td>13</td>\n",
              "      <td>54.36</td>\n",
              "      <td>340</td>\n",
              "      <td>0</td>\n",
              "      <td>30.06</td>\n",
              "      <td>1018</td>\n",
              "      <td>18</td>\n",
              "      <td>28</td>\n",
              "      <td>1</td>\n",
              "      <td>2019</td>\n",
              "      <td>1-28</td>\n",
              "    </tr>\n",
              "    <tr>\n",
              "      <th>8950</th>\n",
              "      <td>BDL</td>\n",
              "      <td>2019-01-30 10:51:00</td>\n",
              "      <td>-72.6825</td>\n",
              "      <td>41.9381</td>\n",
              "      <td>25</td>\n",
              "      <td>15.1</td>\n",
              "      <td>13</td>\n",
              "      <td>65.58</td>\n",
              "      <td>330</td>\n",
              "      <td>0</td>\n",
              "      <td>29.8</td>\n",
              "      <td>1009.5</td>\n",
              "      <td>21</td>\n",
              "      <td>30</td>\n",
              "      <td>1</td>\n",
              "      <td>2019</td>\n",
              "      <td>1-30</td>\n",
              "    </tr>\n",
              "    <tr>\n",
              "      <th>9053</th>\n",
              "      <td>BDL</td>\n",
              "      <td>2019-01-30 18:51:00</td>\n",
              "      <td>-72.6825</td>\n",
              "      <td>41.9381</td>\n",
              "      <td>27</td>\n",
              "      <td>7</td>\n",
              "      <td>14</td>\n",
              "      <td>42.11</td>\n",
              "      <td>230</td>\n",
              "      <td>0</td>\n",
              "      <td>29.77</td>\n",
              "      <td>1008.3</td>\n",
              "      <td>21</td>\n",
              "      <td>30</td>\n",
              "      <td>1</td>\n",
              "      <td>2019</td>\n",
              "      <td>1-30</td>\n",
              "    </tr>\n",
              "    <tr>\n",
              "      <th>9077</th>\n",
              "      <td>BDL</td>\n",
              "      <td>2019-01-30 20:51:00</td>\n",
              "      <td>-72.6825</td>\n",
              "      <td>41.9381</td>\n",
              "      <td>28</td>\n",
              "      <td>7</td>\n",
              "      <td>8</td>\n",
              "      <td>40.41</td>\n",
              "      <td>190</td>\n",
              "      <td>0</td>\n",
              "      <td>29.73</td>\n",
              "      <td>1006.8</td>\n",
              "      <td>16</td>\n",
              "      <td>30</td>\n",
              "      <td>1</td>\n",
              "      <td>2019</td>\n",
              "      <td>1-30</td>\n",
              "    </tr>\n",
              "  </tbody>\n",
              "</table>\n",
              "<p>125 rows × 17 columns</p>\n",
              "</div>"
            ],
            "text/plain": [
              "     station               valid      lon      lat  ... day month  year MonthDay\n",
              "207      BDL 2019-01-01 15:51:00 -72.6825  41.9381  ...   1     1  2019      1-1\n",
              "220      BDL 2019-01-01 16:51:00 -72.6825  41.9381  ...   1     1  2019      1-1\n",
              "232      BDL 2019-01-01 17:51:00 -72.6825  41.9381  ...   1     1  2019      1-1\n",
              "244      BDL 2019-01-01 18:51:00 -72.6825  41.9381  ...   1     1  2019      1-1\n",
              "255      BDL 2019-01-01 19:51:00 -72.6825  41.9381  ...   1     1  2019      1-1\n",
              "...      ...                 ...      ...      ...  ...  ..   ...   ...      ...\n",
              "8141     BDL 2019-01-27 19:51:00 -72.6825  41.9381  ...  27     1  2019     1-27\n",
              "8297     BDL 2019-01-28 07:51:00 -72.6825  41.9381  ...  28     1  2019     1-28\n",
              "8950     BDL 2019-01-30 10:51:00 -72.6825  41.9381  ...  30     1  2019     1-30\n",
              "9053     BDL 2019-01-30 18:51:00 -72.6825  41.9381  ...  30     1  2019     1-30\n",
              "9077     BDL 2019-01-30 20:51:00 -72.6825  41.9381  ...  30     1  2019     1-30\n",
              "\n",
              "[125 rows x 17 columns]"
            ]
          },
          "metadata": {
            "tags": []
          },
          "execution_count": 72
        }
      ]
    },
    {
      "cell_type": "markdown",
      "metadata": {
        "id": "bGmqjoY6X0XM",
        "colab_type": "text"
      },
      "source": [
        "# Data Recoding \n"
      ]
    },
    {
      "cell_type": "code",
      "metadata": {
        "id": "AYOOfiohIIsi",
        "colab_type": "code",
        "outputId": "66c00ac4-b826-4566-c98e-b11209f559fd",
        "colab": {
          "base_uri": "https://localhost:8080/",
          "height": 217
        }
      },
      "source": [
        "# Creating a binary flag column for rows/observations that are cold (below 32 degF) \n",
        "#If below 32 degF, call it “COLD”; \n",
        "#otherwise, call it “HOT”\n",
        "df_subset['tmpf'] = df_subset['tmpf'].astype(float)\n",
        "df_subset['tmpf_b'] = df_subset['tmpf'].apply(lambda x:'COLD' if x < 32 else 'HOT')\n",
        "df_subset['tmpf_b']"
      ],
      "execution_count": 73,
      "outputs": [
        {
          "output_type": "execute_result",
          "data": {
            "text/plain": [
              "207      HOT\n",
              "220      HOT\n",
              "232      HOT\n",
              "244      HOT\n",
              "255      HOT\n",
              "        ... \n",
              "8141     HOT\n",
              "8297    COLD\n",
              "8950    COLD\n",
              "9053    COLD\n",
              "9077    COLD\n",
              "Name: tmpf_b, Length: 125, dtype: object"
            ]
          },
          "metadata": {
            "tags": []
          },
          "execution_count": 73
        }
      ]
    },
    {
      "cell_type": "code",
      "metadata": {
        "id": "XbWPBPWTH-uD",
        "colab_type": "code",
        "outputId": "2e3893c0-2e22-4389-e494-81b8aad21779",
        "colab": {
          "base_uri": "https://localhost:8080/",
          "height": 217
        }
      },
      "source": [
        "#Creating a binary flag column for rows/observations are windy. \n",
        "#If above 20 miles per hour, call it “WINDY”, \n",
        "#otherwise call it “CALM”\n",
        "df_subset['sknt'] = df_subset['sknt'].astype(float)\n",
        "df_subset['sknt_mph'] = df_subset['sknt']*1.15078   #converting knots to miles per hour\n",
        "df_subset['sknt_b'] = df_subset['sknt_mph'].apply(lambda x:'CALM' if x < 20 else 'WINDY')\n",
        "df_subset['sknt_b']"
      ],
      "execution_count": 74,
      "outputs": [
        {
          "output_type": "execute_result",
          "data": {
            "text/plain": [
              "207      CALM\n",
              "220     WINDY\n",
              "232     WINDY\n",
              "244      CALM\n",
              "255     WINDY\n",
              "        ...  \n",
              "8141     CALM\n",
              "8297     CALM\n",
              "8950     CALM\n",
              "9053     CALM\n",
              "9077     CALM\n",
              "Name: sknt_b, Length: 125, dtype: object"
            ]
          },
          "metadata": {
            "tags": []
          },
          "execution_count": 74
        }
      ]
    },
    {
      "cell_type": "markdown",
      "metadata": {
        "id": "82msq8e7YdY1",
        "colab_type": "text"
      },
      "source": [
        "# Aggregation"
      ]
    },
    {
      "cell_type": "code",
      "metadata": {
        "id": "ch2kn82WLFb5",
        "colab_type": "code",
        "outputId": "a2b556b0-c584-4121-f3ca-bbb8f9eb3e8a",
        "colab": {
          "base_uri": "https://localhost:8080/",
          "height": 137
        }
      },
      "source": [
        "#show the counts of each weather type. \n",
        "freq_table = pd.crosstab(index=df_subset['sknt_b'], columns=df_subset['tmpf_b'])\n",
        "freq_table"
      ],
      "execution_count": 75,
      "outputs": [
        {
          "output_type": "execute_result",
          "data": {
            "text/html": [
              "<div>\n",
              "<style scoped>\n",
              "    .dataframe tbody tr th:only-of-type {\n",
              "        vertical-align: middle;\n",
              "    }\n",
              "\n",
              "    .dataframe tbody tr th {\n",
              "        vertical-align: top;\n",
              "    }\n",
              "\n",
              "    .dataframe thead th {\n",
              "        text-align: right;\n",
              "    }\n",
              "</style>\n",
              "<table border=\"1\" class=\"dataframe\">\n",
              "  <thead>\n",
              "    <tr style=\"text-align: right;\">\n",
              "      <th>tmpf_b</th>\n",
              "      <th>COLD</th>\n",
              "      <th>HOT</th>\n",
              "    </tr>\n",
              "    <tr>\n",
              "      <th>sknt_b</th>\n",
              "      <th></th>\n",
              "      <th></th>\n",
              "    </tr>\n",
              "  </thead>\n",
              "  <tbody>\n",
              "    <tr>\n",
              "      <th>CALM</th>\n",
              "      <td>56</td>\n",
              "      <td>44</td>\n",
              "    </tr>\n",
              "    <tr>\n",
              "      <th>WINDY</th>\n",
              "      <td>18</td>\n",
              "      <td>7</td>\n",
              "    </tr>\n",
              "  </tbody>\n",
              "</table>\n",
              "</div>"
            ],
            "text/plain": [
              "tmpf_b  COLD  HOT\n",
              "sknt_b           \n",
              "CALM      56   44\n",
              "WINDY     18    7"
            ]
          },
          "metadata": {
            "tags": []
          },
          "execution_count": 75
        }
      ]
    },
    {
      "cell_type": "code",
      "metadata": {
        "id": "i1ypHOvoMCE9",
        "colab_type": "code",
        "outputId": "ca021206-5694-40cc-b0f1-503728281398",
        "colab": {
          "base_uri": "https://localhost:8080/",
          "height": 673
        }
      },
      "source": [
        "#A table that shows the average wind speed and average temperature per day.\n",
        "df_avg=df_subset.groupby(['day','month','year']).agg({'tmpf':'mean','sknt':'mean'})\n",
        "df_avg"
      ],
      "execution_count": 76,
      "outputs": [
        {
          "output_type": "execute_result",
          "data": {
            "text/html": [
              "<div>\n",
              "<style scoped>\n",
              "    .dataframe tbody tr th:only-of-type {\n",
              "        vertical-align: middle;\n",
              "    }\n",
              "\n",
              "    .dataframe tbody tr th {\n",
              "        vertical-align: top;\n",
              "    }\n",
              "\n",
              "    .dataframe thead th {\n",
              "        text-align: right;\n",
              "    }\n",
              "</style>\n",
              "<table border=\"1\" class=\"dataframe\">\n",
              "  <thead>\n",
              "    <tr style=\"text-align: right;\">\n",
              "      <th></th>\n",
              "      <th></th>\n",
              "      <th></th>\n",
              "      <th>tmpf</th>\n",
              "      <th>sknt</th>\n",
              "    </tr>\n",
              "    <tr>\n",
              "      <th>day</th>\n",
              "      <th>month</th>\n",
              "      <th>year</th>\n",
              "      <th></th>\n",
              "      <th></th>\n",
              "    </tr>\n",
              "  </thead>\n",
              "  <tbody>\n",
              "    <tr>\n",
              "      <th>1</th>\n",
              "      <th>1</th>\n",
              "      <th>2019</th>\n",
              "      <td>44.862500</td>\n",
              "      <td>17.875000</td>\n",
              "    </tr>\n",
              "    <tr>\n",
              "      <th>2</th>\n",
              "      <th>1</th>\n",
              "      <th>2019</th>\n",
              "      <td>37.000000</td>\n",
              "      <td>10.000000</td>\n",
              "    </tr>\n",
              "    <tr>\n",
              "      <th>3</th>\n",
              "      <th>1</th>\n",
              "      <th>2019</th>\n",
              "      <td>41.666667</td>\n",
              "      <td>15.666667</td>\n",
              "    </tr>\n",
              "    <tr>\n",
              "      <th>4</th>\n",
              "      <th>1</th>\n",
              "      <th>2019</th>\n",
              "      <td>39.000000</td>\n",
              "      <td>10.000000</td>\n",
              "    </tr>\n",
              "    <tr>\n",
              "      <th>6</th>\n",
              "      <th>1</th>\n",
              "      <th>2019</th>\n",
              "      <td>39.040000</td>\n",
              "      <td>14.800000</td>\n",
              "    </tr>\n",
              "    <tr>\n",
              "      <th>7</th>\n",
              "      <th>1</th>\n",
              "      <th>2019</th>\n",
              "      <td>25.683333</td>\n",
              "      <td>13.833333</td>\n",
              "    </tr>\n",
              "    <tr>\n",
              "      <th>9</th>\n",
              "      <th>1</th>\n",
              "      <th>2019</th>\n",
              "      <td>38.828571</td>\n",
              "      <td>15.142857</td>\n",
              "    </tr>\n",
              "    <tr>\n",
              "      <th>10</th>\n",
              "      <th>1</th>\n",
              "      <th>2019</th>\n",
              "      <td>30.176471</td>\n",
              "      <td>16.000000</td>\n",
              "    </tr>\n",
              "    <tr>\n",
              "      <th>11</th>\n",
              "      <th>1</th>\n",
              "      <th>2019</th>\n",
              "      <td>22.700000</td>\n",
              "      <td>13.900000</td>\n",
              "    </tr>\n",
              "    <tr>\n",
              "      <th>12</th>\n",
              "      <th>1</th>\n",
              "      <th>2019</th>\n",
              "      <td>17.380000</td>\n",
              "      <td>11.400000</td>\n",
              "    </tr>\n",
              "    <tr>\n",
              "      <th>17</th>\n",
              "      <th>1</th>\n",
              "      <th>2019</th>\n",
              "      <td>29.050000</td>\n",
              "      <td>13.000000</td>\n",
              "    </tr>\n",
              "    <tr>\n",
              "      <th>20</th>\n",
              "      <th>1</th>\n",
              "      <th>2019</th>\n",
              "      <td>18.550000</td>\n",
              "      <td>15.500000</td>\n",
              "    </tr>\n",
              "    <tr>\n",
              "      <th>21</th>\n",
              "      <th>1</th>\n",
              "      <th>2019</th>\n",
              "      <td>0.526316</td>\n",
              "      <td>16.684211</td>\n",
              "    </tr>\n",
              "    <tr>\n",
              "      <th>22</th>\n",
              "      <th>1</th>\n",
              "      <th>2019</th>\n",
              "      <td>6.655556</td>\n",
              "      <td>14.333333</td>\n",
              "    </tr>\n",
              "    <tr>\n",
              "      <th>24</th>\n",
              "      <th>1</th>\n",
              "      <th>2019</th>\n",
              "      <td>50.620000</td>\n",
              "      <td>14.800000</td>\n",
              "    </tr>\n",
              "    <tr>\n",
              "      <th>25</th>\n",
              "      <th>1</th>\n",
              "      <th>2019</th>\n",
              "      <td>34.033333</td>\n",
              "      <td>15.888889</td>\n",
              "    </tr>\n",
              "    <tr>\n",
              "      <th>26</th>\n",
              "      <th>1</th>\n",
              "      <th>2019</th>\n",
              "      <td>29.450000</td>\n",
              "      <td>9.000000</td>\n",
              "    </tr>\n",
              "    <tr>\n",
              "      <th>27</th>\n",
              "      <th>1</th>\n",
              "      <th>2019</th>\n",
              "      <td>42.700000</td>\n",
              "      <td>13.666667</td>\n",
              "    </tr>\n",
              "    <tr>\n",
              "      <th>28</th>\n",
              "      <th>1</th>\n",
              "      <th>2019</th>\n",
              "      <td>24.100000</td>\n",
              "      <td>13.000000</td>\n",
              "    </tr>\n",
              "    <tr>\n",
              "      <th>30</th>\n",
              "      <th>1</th>\n",
              "      <th>2019</th>\n",
              "      <td>26.666667</td>\n",
              "      <td>11.666667</td>\n",
              "    </tr>\n",
              "  </tbody>\n",
              "</table>\n",
              "</div>"
            ],
            "text/plain": [
              "                     tmpf       sknt\n",
              "day month year                      \n",
              "1   1     2019  44.862500  17.875000\n",
              "2   1     2019  37.000000  10.000000\n",
              "3   1     2019  41.666667  15.666667\n",
              "4   1     2019  39.000000  10.000000\n",
              "6   1     2019  39.040000  14.800000\n",
              "7   1     2019  25.683333  13.833333\n",
              "9   1     2019  38.828571  15.142857\n",
              "10  1     2019  30.176471  16.000000\n",
              "11  1     2019  22.700000  13.900000\n",
              "12  1     2019  17.380000  11.400000\n",
              "17  1     2019  29.050000  13.000000\n",
              "20  1     2019  18.550000  15.500000\n",
              "21  1     2019   0.526316  16.684211\n",
              "22  1     2019   6.655556  14.333333\n",
              "24  1     2019  50.620000  14.800000\n",
              "25  1     2019  34.033333  15.888889\n",
              "26  1     2019  29.450000   9.000000\n",
              "27  1     2019  42.700000  13.666667\n",
              "28  1     2019  24.100000  13.000000\n",
              "30  1     2019  26.666667  11.666667"
            ]
          },
          "metadata": {
            "tags": []
          },
          "execution_count": 76
        }
      ]
    },
    {
      "cell_type": "markdown",
      "metadata": {
        "id": "T4k7rqoBXqna",
        "colab_type": "text"
      },
      "source": [
        "# Data Visualization"
      ]
    },
    {
      "cell_type": "code",
      "metadata": {
        "id": "sWAbRU3_c024",
        "colab_type": "code",
        "outputId": "c6a59190-d6fc-489a-a1fc-defed0b1d893",
        "colab": {
          "base_uri": "https://localhost:8080/",
          "height": 534
        }
      },
      "source": [
        "#histogram plot of the wind speed \n",
        "import matplotlib.pyplot as plt\n",
        "df_subset.hist('sknt', color='green')\n",
        "plt.title(\"Histogram of Wind speed\")\n",
        "plt.xlabel('Wind Speed')\n",
        "plt.ylabel('Frequency')"
      ],
      "execution_count": 77,
      "outputs": [
        {
          "output_type": "execute_result",
          "data": {
            "text/plain": [
              "Text(0, 0.5, 'Frequency')"
            ]
          },
          "metadata": {
            "tags": []
          },
          "execution_count": 77
        },
        {
          "output_type": "display_data",
          "data": {
            "image/png": "[encoded data removed]",
            "text/plain": [
              "<Figure size 720x576 with 1 Axes>"
            ]
          },
          "metadata": {
            "tags": []
          }
        }
      ]
    },
    {
      "cell_type": "code",
      "metadata": {
        "id": "KtzPLaBMc2d_",
        "colab_type": "code",
        "outputId": "e839a0dc-8e1c-4fad-86af-e8ced08c8c71",
        "colab": {
          "base_uri": "https://localhost:8080/",
          "height": 534
        }
      },
      "source": [
        "# a histogram plot of the temperature column\n",
        "import matplotlib.pyplot as plt\n",
        "df_subset.hist('tmpf', color='red')\n",
        "plt.title(\"Histogram of Temperature\")\n",
        "plt.xlabel('Air Speed')\n",
        "plt.ylabel('Frequency')"
      ],
      "execution_count": 78,
      "outputs": [
        {
          "output_type": "execute_result",
          "data": {
            "text/plain": [
              "Text(0, 0.5, 'Frequency')"
            ]
          },
          "metadata": {
            "tags": []
          },
          "execution_count": 78
        },
        {
          "output_type": "display_data",
          "data": {
            "image/png": "[encoded data removed]",
            "text/plain": [
              "<Figure size 720x576 with 1 Axes>"
            ]
          },
          "metadata": {
            "tags": []
          }
        }
      ]
    },
    {
      "cell_type": "code",
      "metadata": {
        "id": "6hAMhsnxc3JS",
        "colab_type": "code",
        "outputId": "8b0be310-acb7-4817-e8e2-9efa10a2e414",
        "colab": {
          "base_uri": "https://localhost:8080/",
          "height": 534
        }
      },
      "source": [
        "#a scatter plot of the wind speed V/S wind gust column\n",
        "df_subset['gust'] = df_subset['gust'].astype(float)\n",
        "df_subset.plot.scatter(x='sknt',\n",
        "                      y='gust',\n",
        "                      c='Blue')\n",
        "plt.title(\"Scatter Plot of Wind Speed V/S Wind Gust\")\n",
        "plt.xlabel(\"Wind Speed\")\n",
        "plt.ylabel(\"Wind Gust\")"
      ],
      "execution_count": 79,
      "outputs": [
        {
          "output_type": "execute_result",
          "data": {
            "text/plain": [
              "Text(0, 0.5, 'Wind Gust')"
            ]
          },
          "metadata": {
            "tags": []
          },
          "execution_count": 79
        },
        {
          "output_type": "display_data",
          "data": {
            "image/png": "[encoded data removed]",
            "text/plain": [
              "<Figure size 720x576 with 1 Axes>"
            ]
          },
          "metadata": {
            "tags": []
          }
        }
      ]
    },
    {
      "cell_type": "code",
      "metadata": {
        "id": "DAJcdb0OWCEu",
        "colab_type": "code",
        "outputId": "4a10e150-94ae-4505-d2ff-6d3f791419ca",
        "colab": {
          "base_uri": "https://localhost:8080/",
          "height": 581
        }
      },
      "source": [
        "#Line plot of the sknt, tmpf and dwpf (as a 3 panel plot), each having a different color.\n",
        "import matplotlib.pyplot as plt\n",
        "import numpy as np\n",
        "import seaborn as sns\n",
        "\n",
        "# specify dimensions of plot\n",
        "sns.set(rc={'figure.figsize':(10,8)})\n",
        "\n",
        "#3 rows and 1 columns\n",
        "fig, ax = plt.subplots(3,1)\n",
        "\n",
        "#line plot for Wind Speed\n",
        "ax[0].plot(df_subset.sknt,color='green')\n",
        "ax[0].set_title(\"Line Plot of Wind Speed\")\n",
        "ax[0].set_xlabel('wind speed')\n",
        "\n",
        "\n",
        "#line plot for Air Temperature\n",
        "ax[1].plot(df_subset.tmpf,color='yellow')\n",
        "ax[1].set_title(\"Line Plot of Air Temperature\")\n",
        "ax[1].set_xlabel('Air Temperature')\n",
        "\n",
        "\n",
        "#line plot for Dew Point Temperature\n",
        "ax[2].plot(df_subset.dwpf,color='red')\n",
        "ax[2].set_title(\"Line Plot of Dew Point Temperature\")\n",
        "ax[2].set_xlabel('Dew Point Temperature')\n",
        "\n",
        "fig.tight_layout()\n",
        "plt.show()"
      ],
      "execution_count": 80,
      "outputs": [
        {
          "output_type": "display_data",
          "data": {
            "image/png": "[encoded data removed]",
            "text/plain": [
              "<Figure size 720x576 with 3 Axes>"
            ]
          },
          "metadata": {
            "tags": []
          }
        }
      ]
    },
    {
      "cell_type": "code",
      "metadata": {
        "id": "Sqe8a0YCa7nR",
        "colab_type": "code",
        "outputId": "a7e73643-eda8-4c03-ebe4-7325392f8774",
        "colab": {
          "base_uri": "https://localhost:8080/",
          "height": 167
        }
      },
      "source": [
        "Y_aw = df_subset['gust']\n",
        "X_aw = df_subset[['tmpf','dwpf','sknt','relh','drct','p01i','alti','mslp']]\n",
        "X_aw[['dwpf','relh','drct','p01i','alti','mslp']]= X_aw[['dwpf','relh','drct','p01i','alti','mslp']].astype(float)\n",
        "X_aw.dtypes"
      ],
      "execution_count": 81,
      "outputs": [
        {
          "output_type": "execute_result",
          "data": {
            "text/plain": [
              "tmpf    float64\n",
              "dwpf    float64\n",
              "sknt    float64\n",
              "relh    float64\n",
              "drct    float64\n",
              "p01i    float64\n",
              "alti    float64\n",
              "mslp    float64\n",
              "dtype: object"
            ]
          },
          "metadata": {
            "tags": []
          },
          "execution_count": 81
        }
      ]
    },
    {
      "cell_type": "markdown",
      "metadata": {
        "id": "CevJRkUTBrrB",
        "colab_type": "text"
      },
      "source": [
        "# Polynomial Features"
      ]
    },
    {
      "cell_type": "code",
      "metadata": {
        "id": "w1LmK1vqoxQv",
        "colab_type": "code",
        "outputId": "9ce4d594-70f8-4f8b-fd12-cd6bfc547979",
        "colab": {
          "base_uri": "https://localhost:8080/",
          "height": 318
        }
      },
      "source": [
        "#\tCreate polynomial features (and interactions).\n",
        "from sklearn.preprocessing import PolynomialFeatures\n",
        "\n",
        "# specify the degree of the poly fit\n",
        "# the higher the degree, the weirder the fit!\n",
        "# includes INTERACTIONS and Polynomials... lots of variables here...\n",
        "poly_features = PolynomialFeatures(degree=2)\n",
        "\n",
        "# transforms the existing features to higher degree features.\n",
        "X_poly = poly_features.fit_transform(X_aw)\n",
        "X_poly = np.nan_to_num(X_poly)\n",
        "tmp_trans = pd.DataFrame(X_poly)\n",
        "\n",
        "print(\"Original Data\")\n",
        "print(X_aw.head()) #13 columns\n",
        "print(\"##########################\")\n",
        "#tmp_trans= pd.DataFrame(np.nan_to_num(tmp_trans))\n",
        "print(\"Poly Features\")\n",
        "print(tmp_trans.head()) #105 columns\n",
        "tmp_trans.shape"
      ],
      "execution_count": 82,
      "outputs": [
        {
          "output_type": "stream",
          "text": [
            "Original Data\n",
            "     tmpf  dwpf  sknt   relh   drct  p01i   alti    mslp\n",
            "207  53.1  41.0  17.0  63.38  320.0   0.0  29.68  1005.2\n",
            "220  51.1  33.1  19.0  49.98  310.0   0.0  29.74  1007.3\n",
            "232  48.9  30.9  20.0  49.63  310.0   0.0  29.77  1008.1\n",
            "244  46.0  30.0  17.0  53.37  330.0   0.0  29.81  1009.4\n",
            "255  43.0  28.9  27.0  57.21  300.0   0.0  29.88  1011.9\n",
            "##########################\n",
            "Poly Features\n",
            "    0     1     2     3      4   ...   40   41        42         43          44\n",
            "0  1.0  53.1  41.0  17.0  63.38  ...  0.0  0.0  880.9024  29834.336  1010427.04\n",
            "1  1.0  51.1  33.1  19.0  49.98  ...  0.0  0.0  884.4676  29957.102  1014653.29\n",
            "2  1.0  48.9  30.9  20.0  49.63  ...  0.0  0.0  886.2529  30011.137  1016265.61\n",
            "3  1.0  46.0  30.0  17.0  53.37  ...  0.0  0.0  888.6361  30090.214  1018888.36\n",
            "4  1.0  43.0  28.9  27.0  57.21  ...  0.0  0.0  892.8144  30235.572  1023941.61\n",
            "\n",
            "[5 rows x 45 columns]\n"
          ],
          "name": "stdout"
        },
        {
          "output_type": "execute_result",
          "data": {
            "text/plain": [
              "(125, 45)"
            ]
          },
          "metadata": {
            "tags": []
          },
          "execution_count": 82
        }
      ]
    },
    {
      "cell_type": "markdown",
      "metadata": {
        "id": "kh-m12wcBz8p",
        "colab_type": "text"
      },
      "source": [
        "# Log Features"
      ]
    },
    {
      "cell_type": "code",
      "metadata": {
        "id": "nh6IFtQg3F0u",
        "colab_type": "code",
        "outputId": "db92dfa0-8b1c-478f-f69a-c118c31719fd",
        "colab": {
          "base_uri": "https://localhost:8080/",
          "height": 421
        }
      },
      "source": [
        "# Create log features\n",
        "import numpy as np\n",
        "tmp_log_a = np.log(X_aw)\n",
        "tmp_log_a[np.isneginf(tmp_log_a)] = 0    #recode -inf to 0...\n",
        "tmp_log = pd.DataFrame(tmp_log_a)\n",
        "tmp_log = tmp_log.fillna(0)\n",
        "print(tmp_log.shape) # same number of columns, but they've changed.\n",
        "tmp_log"
      ],
      "execution_count": 83,
      "outputs": [
        {
          "output_type": "stream",
          "text": [
            "(125, 8)\n"
          ],
          "name": "stdout"
        },
        {
          "output_type": "execute_result",
          "data": {
            "text/html": [
              "<div>\n",
              "<style scoped>\n",
              "    .dataframe tbody tr th:only-of-type {\n",
              "        vertical-align: middle;\n",
              "    }\n",
              "\n",
              "    .dataframe tbody tr th {\n",
              "        vertical-align: top;\n",
              "    }\n",
              "\n",
              "    .dataframe thead th {\n",
              "        text-align: right;\n",
              "    }\n",
              "</style>\n",
              "<table border=\"1\" class=\"dataframe\">\n",
              "  <thead>\n",
              "    <tr style=\"text-align: right;\">\n",
              "      <th></th>\n",
              "      <th>tmpf</th>\n",
              "      <th>dwpf</th>\n",
              "      <th>sknt</th>\n",
              "      <th>relh</th>\n",
              "      <th>drct</th>\n",
              "      <th>p01i</th>\n",
              "      <th>alti</th>\n",
              "      <th>mslp</th>\n",
              "    </tr>\n",
              "  </thead>\n",
              "  <tbody>\n",
              "    <tr>\n",
              "      <th>207</th>\n",
              "      <td>3.972177</td>\n",
              "      <td>3.713572</td>\n",
              "      <td>2.833213</td>\n",
              "      <td>4.149148</td>\n",
              "      <td>5.768321</td>\n",
              "      <td>0.0</td>\n",
              "      <td>3.390473</td>\n",
              "      <td>6.912942</td>\n",
              "    </tr>\n",
              "    <tr>\n",
              "      <th>220</th>\n",
              "      <td>3.933784</td>\n",
              "      <td>3.499533</td>\n",
              "      <td>2.944439</td>\n",
              "      <td>3.911623</td>\n",
              "      <td>5.736572</td>\n",
              "      <td>0.0</td>\n",
              "      <td>3.392493</td>\n",
              "      <td>6.915029</td>\n",
              "    </tr>\n",
              "    <tr>\n",
              "      <th>232</th>\n",
              "      <td>3.889777</td>\n",
              "      <td>3.430756</td>\n",
              "      <td>2.995732</td>\n",
              "      <td>3.904595</td>\n",
              "      <td>5.736572</td>\n",
              "      <td>0.0</td>\n",
              "      <td>3.393501</td>\n",
              "      <td>6.915823</td>\n",
              "    </tr>\n",
              "    <tr>\n",
              "      <th>244</th>\n",
              "      <td>3.828641</td>\n",
              "      <td>3.401197</td>\n",
              "      <td>2.833213</td>\n",
              "      <td>3.977249</td>\n",
              "      <td>5.799093</td>\n",
              "      <td>0.0</td>\n",
              "      <td>3.394844</td>\n",
              "      <td>6.917111</td>\n",
              "    </tr>\n",
              "    <tr>\n",
              "      <th>255</th>\n",
              "      <td>3.761200</td>\n",
              "      <td>3.363842</td>\n",
              "      <td>3.295837</td>\n",
              "      <td>4.046729</td>\n",
              "      <td>5.703782</td>\n",
              "      <td>0.0</td>\n",
              "      <td>3.397189</td>\n",
              "      <td>6.919585</td>\n",
              "    </tr>\n",
              "    <tr>\n",
              "      <th>...</th>\n",
              "      <td>...</td>\n",
              "      <td>...</td>\n",
              "      <td>...</td>\n",
              "      <td>...</td>\n",
              "      <td>...</td>\n",
              "      <td>...</td>\n",
              "      <td>...</td>\n",
              "      <td>...</td>\n",
              "    </tr>\n",
              "    <tr>\n",
              "      <th>8141</th>\n",
              "      <td>3.786460</td>\n",
              "      <td>3.295837</td>\n",
              "      <td>2.639057</td>\n",
              "      <td>3.926517</td>\n",
              "      <td>5.247024</td>\n",
              "      <td>0.0</td>\n",
              "      <td>3.397858</td>\n",
              "      <td>6.920375</td>\n",
              "    </tr>\n",
              "    <tr>\n",
              "      <th>8297</th>\n",
              "      <td>3.182212</td>\n",
              "      <td>2.302585</td>\n",
              "      <td>2.564949</td>\n",
              "      <td>3.995629</td>\n",
              "      <td>5.828946</td>\n",
              "      <td>0.0</td>\n",
              "      <td>3.403195</td>\n",
              "      <td>6.925595</td>\n",
              "    </tr>\n",
              "    <tr>\n",
              "      <th>8950</th>\n",
              "      <td>3.218876</td>\n",
              "      <td>2.714695</td>\n",
              "      <td>2.564949</td>\n",
              "      <td>4.183271</td>\n",
              "      <td>5.799093</td>\n",
              "      <td>0.0</td>\n",
              "      <td>3.394508</td>\n",
              "      <td>6.917210</td>\n",
              "    </tr>\n",
              "    <tr>\n",
              "      <th>9053</th>\n",
              "      <td>3.295837</td>\n",
              "      <td>1.945910</td>\n",
              "      <td>2.639057</td>\n",
              "      <td>3.740285</td>\n",
              "      <td>5.438079</td>\n",
              "      <td>0.0</td>\n",
              "      <td>3.393501</td>\n",
              "      <td>6.916021</td>\n",
              "    </tr>\n",
              "    <tr>\n",
              "      <th>9077</th>\n",
              "      <td>3.332205</td>\n",
              "      <td>1.945910</td>\n",
              "      <td>2.079442</td>\n",
              "      <td>3.699077</td>\n",
              "      <td>5.247024</td>\n",
              "      <td>0.0</td>\n",
              "      <td>3.392157</td>\n",
              "      <td>6.914532</td>\n",
              "    </tr>\n",
              "  </tbody>\n",
              "</table>\n",
              "<p>125 rows × 8 columns</p>\n",
              "</div>"
            ],
            "text/plain": [
              "          tmpf      dwpf      sknt  ...  p01i      alti      mslp\n",
              "207   3.972177  3.713572  2.833213  ...   0.0  3.390473  6.912942\n",
              "220   3.933784  3.499533  2.944439  ...   0.0  3.392493  6.915029\n",
              "232   3.889777  3.430756  2.995732  ...   0.0  3.393501  6.915823\n",
              "244   3.828641  3.401197  2.833213  ...   0.0  3.394844  6.917111\n",
              "255   3.761200  3.363842  3.295837  ...   0.0  3.397189  6.919585\n",
              "...        ...       ...       ...  ...   ...       ...       ...\n",
              "8141  3.786460  3.295837  2.639057  ...   0.0  3.397858  6.920375\n",
              "8297  3.182212  2.302585  2.564949  ...   0.0  3.403195  6.925595\n",
              "8950  3.218876  2.714695  2.564949  ...   0.0  3.394508  6.917210\n",
              "9053  3.295837  1.945910  2.639057  ...   0.0  3.393501  6.916021\n",
              "9077  3.332205  1.945910  2.079442  ...   0.0  3.392157  6.914532\n",
              "\n",
              "[125 rows x 8 columns]"
            ]
          },
          "metadata": {
            "tags": []
          },
          "execution_count": 83
        }
      ]
    },
    {
      "cell_type": "markdown",
      "metadata": {
        "id": "a6j5mr5WB5f_",
        "colab_type": "text"
      },
      "source": [
        "# Concatenate log and polynomial features"
      ]
    },
    {
      "cell_type": "code",
      "metadata": {
        "id": "Xz-Q9tLKffrL",
        "colab_type": "code",
        "outputId": "c81c6836-067a-4b2d-e0b2-7d01f045988f",
        "colab": {
          "base_uri": "https://localhost:8080/",
          "height": 33
        }
      },
      "source": [
        "# smoosh the two dataframes together\n",
        "# reset index of tables\n",
        "#X_aw.reset_index(inplace=True,drop=True)   #drop not to make additional column for index\n",
        "tmp_trans.reset_index(inplace=True,drop=True)\n",
        "tmp_log.reset_index(inplace=True,drop=True)\n",
        "\n",
        "#Join these two datasets together with the original variables.\n",
        "df_resultant = pd.concat([tmp_trans,tmp_log], axis=1)\n",
        "\n",
        "# look at how many more columns there are\n",
        "df_resultant.shape"
      ],
      "execution_count": 84,
      "outputs": [
        {
          "output_type": "execute_result",
          "data": {
            "text/plain": [
              "(125, 53)"
            ]
          },
          "metadata": {
            "tags": []
          },
          "execution_count": 84
        }
      ]
    },
    {
      "cell_type": "code",
      "metadata": {
        "id": "kvc-DAVBhZUC",
        "colab_type": "code",
        "outputId": "fd673cb4-8380-46d9-ada9-819cdc46db18",
        "colab": {
          "base_uri": "https://localhost:8080/",
          "height": 920
        }
      },
      "source": [
        "#check missing values\n",
        "df_resultant\n",
        "missing_values = df_resultant.isnull().sum(axis=0)\n",
        "missing_values\n"
      ],
      "execution_count": 85,
      "outputs": [
        {
          "output_type": "execute_result",
          "data": {
            "text/plain": [
              "0       0\n",
              "1       0\n",
              "2       0\n",
              "3       0\n",
              "4       0\n",
              "5       0\n",
              "6       0\n",
              "7       0\n",
              "8       0\n",
              "9       0\n",
              "10      0\n",
              "11      0\n",
              "12      0\n",
              "13      0\n",
              "14      0\n",
              "15      0\n",
              "16      0\n",
              "17      0\n",
              "18      0\n",
              "19      0\n",
              "20      0\n",
              "21      0\n",
              "22      0\n",
              "23      0\n",
              "24      0\n",
              "25      0\n",
              "26      0\n",
              "27      0\n",
              "28      0\n",
              "29      0\n",
              "30      0\n",
              "31      0\n",
              "32      0\n",
              "33      0\n",
              "34      0\n",
              "35      0\n",
              "36      0\n",
              "37      0\n",
              "38      0\n",
              "39      0\n",
              "40      0\n",
              "41      0\n",
              "42      0\n",
              "43      0\n",
              "44      0\n",
              "tmpf    0\n",
              "dwpf    0\n",
              "sknt    0\n",
              "relh    0\n",
              "drct    0\n",
              "p01i    0\n",
              "alti    0\n",
              "mslp    0\n",
              "dtype: int64"
            ]
          },
          "metadata": {
            "tags": []
          },
          "execution_count": 85
        }
      ]
    },
    {
      "cell_type": "code",
      "metadata": {
        "id": "wsfNpk7KjSa2",
        "colab_type": "code",
        "outputId": "30000a52-66d8-482f-bde6-b3895a76d902",
        "colab": {
          "base_uri": "https://localhost:8080/",
          "height": 50
        }
      },
      "source": [
        "# Shuffle the data, then do an 80/20 split on the data\n",
        "Y_aw.reset_index(inplace=True,drop=True)\n",
        "X_train ,X_test, y_train, y_test = train_test_split(df_resultant, Y_aw, test_size=0.2, random_state=31, shuffle=True)\n",
        "\n",
        "# ensure the split worked - checked how many rows there are!\n",
        "print('X_train', X_train.shape,'y_train', y_train.shape)\n",
        "print('X_test ', X_test.shape, 'y_test ', y_test.shape)"
      ],
      "execution_count": 86,
      "outputs": [
        {
          "output_type": "stream",
          "text": [
            "X_train (100, 53) y_train (100,)\n",
            "X_test  (25, 53) y_test  (25,)\n"
          ],
          "name": "stdout"
        }
      ]
    },
    {
      "cell_type": "markdown",
      "metadata": {
        "id": "8E0kRXUqKjGK",
        "colab_type": "text"
      },
      "source": [
        "# Linear Regression"
      ]
    },
    {
      "cell_type": "code",
      "metadata": {
        "colab_type": "code",
        "outputId": "0ee1bcb1-e946-41a7-ade7-35f0f40baccb",
        "id": "nopDW3goZI4j",
        "colab": {
          "base_uri": "https://localhost:8080/",
          "height": 33
        }
      },
      "source": [
        "#Linear Regression\n",
        "from sklearn.linear_model import LinearRegression\n",
        "from sklearn.metrics import mean_absolute_error\n",
        "\n",
        "# fit the training data to Linear Regression\n",
        "LR_model = LinearRegression() # specifies an empty model\n",
        "LR_model.fit(X_train, y_train)\n",
        "# predicting on training data-set\n",
        "y_train_predict = LR_model.predict(X_train)\n",
        "# predicting on test data-set\n",
        "y_test_predict = LR_model.predict(X_test)\n",
        "df_linear_reg_pred = pd.DataFrame(y_test_predict)\n",
        "df_linear_reg_pred\n",
        "\n",
        "# the Linear regression model results   \n",
        "score_test = LR_model.score(X_test, y_test)\n",
        "mae_test = mean_absolute_error(y_test,y_test_predict)\n",
        "print(\"R2:{0:.4f}, MAE:{1:.2f}\".format(score_test, mae_test))"
      ],
      "execution_count": 87,
      "outputs": [
        {
          "output_type": "stream",
          "text": [
            "R2:-0.2335, MAE:3.38\n"
          ],
          "name": "stdout"
        }
      ]
    },
    {
      "cell_type": "markdown",
      "metadata": {
        "id": "i77rY91yIbrg",
        "colab_type": "text"
      },
      "source": [
        "# Lasso Regression"
      ]
    },
    {
      "cell_type": "code",
      "metadata": {
        "id": "9f36KAR0IVIF",
        "colab_type": "code",
        "outputId": "4e2a7441-af50-4925-a076-33d9326bfb1a",
        "colab": {
          "base_uri": "https://localhost:8080/",
          "height": 134
        }
      },
      "source": [
        "#Fitting an lasso on your concatenated dataset (the polynomial features and \n",
        "#interactions, and the log features) \n",
        "#with varying alpha values (0.01, 0.1, 1, 10, 100, 1000), \n",
        "#observing model best fit in terms of R2 and MAE\n",
        "from sklearn.linear_model import Lasso\n",
        "from sklearn.metrics import mean_absolute_error\n",
        "\n",
        "df_model_results = []\n",
        "\n",
        "alphas = [0.01, 0.1, 1, 10, 100, 1000]        # this is essentially alpha values\n",
        "\n",
        "# the Lasso on Training data set \n",
        "for a in alphas:\n",
        "  model = Lasso(alpha=a).fit(X_train, y_train)   \n",
        "  score_train = model.score(X_train, y_train)\n",
        "  pred_y = model.predict(X_train)\n",
        "  mae = mean_absolute_error(y_train,pred_y)\n",
        "\n",
        "# the Lasso on Test data set    \n",
        "  score_test = model.score(X_test, y_test)\n",
        "  pred_y_test = model.predict(X_test)\n",
        "  mae_test = mean_absolute_error(y_test,pred_y_test)\n",
        "\n",
        "#Show results in a table for training and validation results.\n",
        "  df_model_results.append([a, score_train, score_test, mae, mae_test])\n",
        "df_model_results = pd.DataFrame(data=df_model_results, columns=['Alpha', 'Training R2', 'Test R2', 'Training MAE', 'Test MAE'])\n",
        "print(df_model_results)"
      ],
      "execution_count": 88,
      "outputs": [
        {
          "output_type": "stream",
          "text": [
            "     Alpha  Training R2   Test R2  Training MAE  Test MAE\n",
            "0     0.01     0.708028  0.738219      1.876754  1.630231\n",
            "1     0.10     0.702573  0.747352      1.912473  1.628341\n",
            "2     1.00     0.698641  0.748369      1.921989  1.615872\n",
            "3    10.00     0.690043  0.758812      1.973353  1.573544\n",
            "4   100.00     0.659944  0.756681      2.110637  1.479246\n",
            "5  1000.00     0.622187  0.703419      2.245159  1.758379\n"
          ],
          "name": "stdout"
        }
      ]
    },
    {
      "cell_type": "markdown",
      "metadata": {
        "id": "RVAwAU51I9K4",
        "colab_type": "text"
      },
      "source": [
        "# Ridge Regression"
      ]
    },
    {
      "cell_type": "code",
      "metadata": {
        "id": "Dgi3SrnnI00J",
        "colab_type": "code",
        "outputId": "4e0b95a6-0229-4cdb-ec2e-bd37b14814b9",
        "colab": {
          "base_uri": "https://localhost:8080/",
          "height": 134
        }
      },
      "source": [
        "#Fitting an ridge on your concatenated dataset (the polynomial features and \n",
        "#interactions, and the log features) \n",
        "#with varying alpha values (0.01, 0.1, 1, 10, 100, 1000), \n",
        "#observing model best fit in terms of R2 and MAE\n",
        "from sklearn.linear_model import Ridge\n",
        "from sklearn.metrics import mean_absolute_error\n",
        "\n",
        "df_model_results = []\n",
        "\n",
        "alphas = [0.01, 0.1, 1, 10, 100, 1000]        # this is essentially alpha values\n",
        "\n",
        "# the ridge on Training data set \n",
        "for a in alphas:\n",
        "  model = Lasso(alpha=a).fit(X_train, y_train)   \n",
        "  score_train = model.score(X_train, y_train)\n",
        "  pred_y = model.predict(X_train)\n",
        "  mae = mean_absolute_error(y_train,pred_y)\n",
        "\n",
        "# the Lasso on Test data set    \n",
        "  score_test = model.score(X_test, y_test)\n",
        "  pred_y_test = model.predict(X_test)\n",
        "  mae_test = mean_absolute_error(y_test,pred_y_test)\n",
        "\n",
        "#Show results in a table for training and validation results.\n",
        "  df_model_results.append([a, score_train, score_test, mae, mae_test])\n",
        "df_model_results = pd.DataFrame(data=df_model_results, columns=['Alpha', 'Training R2', 'Test R2', 'Training MAE', 'Test MAE'])\n",
        "print(df_model_results)"
      ],
      "execution_count": 89,
      "outputs": [
        {
          "output_type": "stream",
          "text": [
            "     Alpha  Training R2   Test R2  Training MAE  Test MAE\n",
            "0     0.01     0.708028  0.738219      1.876754  1.630231\n",
            "1     0.10     0.702573  0.747352      1.912473  1.628341\n",
            "2     1.00     0.698641  0.748369      1.921989  1.615872\n",
            "3    10.00     0.690043  0.758812      1.973353  1.573544\n",
            "4   100.00     0.659944  0.756681      2.110637  1.479246\n",
            "5  1000.00     0.622187  0.703419      2.245159  1.758379\n"
          ],
          "name": "stdout"
        }
      ]
    },
    {
      "cell_type": "markdown",
      "metadata": {
        "id": "umzPApRVMw8m",
        "colab_type": "text"
      },
      "source": [
        "# ElasticNet Regression"
      ]
    },
    {
      "cell_type": "code",
      "metadata": {
        "id": "Nuddzy40qgV8",
        "colab_type": "code",
        "outputId": "8e1f13ee-e7f1-4760-eb75-85e462d91dd3",
        "colab": {
          "base_uri": "https://localhost:8080/",
          "height": 134
        }
      },
      "source": [
        "#Fitting an elasticNet on your concatenated dataset (the polynomial features and \n",
        "#interactions, and the log features) \n",
        "#with varying alpha values (0.01, 0.1, 1, 10, 100, 1000), observing model best fit in terms of R2 and MAE\n",
        "from sklearn.linear_model import ElasticNet\n",
        "from sklearn.metrics import mean_absolute_error\n",
        "\n",
        "df_model_results = []\n",
        "\n",
        "alphas = [0.01, 0.1, 1, 10, 100, 1000]        # this is essentially alpha values\n",
        "\n",
        "# the ElasticNet on Training data set \n",
        "for a in alphas:\n",
        "  model = ElasticNet(alpha=a).fit(X_train, y_train)   \n",
        "  score_train = model.score(X_train, y_train)\n",
        "  pred_y = model.predict(X_train)\n",
        "  mae = mean_absolute_error(y_train,pred_y)\n",
        "\n",
        "# the ElasticNet on Test data set    \n",
        "  score_test = model.score(X_test, y_test)\n",
        "  pred_y_test = model.predict(X_test)\n",
        "  mae_test = mean_absolute_error(y_test,pred_y_test)\n",
        "\n",
        "#Show results in a table for training and validation results.\n",
        "  df_model_results.append([a, score_train, score_test, mae, mae_test])\n",
        "df_model_results = pd.DataFrame(data=df_model_results, columns=['Alpha', 'Training R2', 'Test R2', 'Training MAE', 'Test MAE'])\n",
        "print(df_model_results)"
      ],
      "execution_count": 90,
      "outputs": [
        {
          "output_type": "stream",
          "text": [
            "     Alpha  Training R2   Test R2  Training MAE  Test MAE\n",
            "0     0.01     0.707933  0.737560      1.877783  1.630985\n",
            "1     0.10     0.702803  0.747741      1.911686  1.626407\n",
            "2     1.00     0.699798  0.746914      1.916014  1.623505\n",
            "3    10.00     0.692084  0.754303      1.957291  1.586926\n",
            "4   100.00     0.676581  0.775164      2.033666  1.464900\n",
            "5  1000.00     0.626251  0.693646      2.235905  1.776960\n"
          ],
          "name": "stdout"
        }
      ]
    },
    {
      "cell_type": "code",
      "metadata": {
        "id": "P-OKfiQOD2yl",
        "colab_type": "code",
        "outputId": "c874d91d-18ea-4c0c-aab7-e12845d4e795",
        "colab": {
          "base_uri": "https://localhost:8080/",
          "height": 534
        }
      },
      "source": [
        "#Scatterplot of actual vs. predicted for your best fitting model.\n",
        "import seaborn  \n",
        "model = ElasticNet(alpha=100.00).fit(X_train, y_train)   \n",
        "score_train = model.score(X_train, y_train)\n",
        "pred_y = model.predict(X_train)\n",
        "seaborn.regplot(y_train,pred_y)\n",
        "plt.title(\"Actual V/S Predicted Training Data\")\n",
        "plt.xlabel(\"Actual\")\n",
        "plt.ylabel(\"Predicted\")"
      ],
      "execution_count": 91,
      "outputs": [
        {
          "output_type": "execute_result",
          "data": {
            "text/plain": [
              "Text(0, 0.5, 'Predicted')"
            ]
          },
          "metadata": {
            "tags": []
          },
          "execution_count": 91
        },
        {
          "output_type": "display_data",
          "data": {
            "image/png": "[encoded data removed]",
            "text/plain": [
              "<Figure size 720x576 with 1 Axes>"
            ]
          },
          "metadata": {
            "tags": []
          }
        }
      ]
    },
    {
      "cell_type": "code",
      "metadata": {
        "id": "mjry33qzWCiw",
        "colab_type": "code",
        "outputId": "dc19e22f-5b4b-4204-f797-1e4984c66180",
        "colab": {
          "base_uri": "https://localhost:8080/",
          "height": 534
        }
      },
      "source": [
        "#Scatterplot of actual vs. test for your best fitting model.\n",
        "score_test = model.score(X_test, y_test)\n",
        "pred_y_test = model.predict(X_test)\n",
        "mae_test = mean_absolute_error(y_test,pred_y_test)\n",
        "seaborn.regplot(y_test,pred_y_test)\n",
        "plt.title(\"Actual V/S Test Data\")\n",
        "plt.xlabel(\"Actual\")\n",
        "plt.ylabel(\"Test\")"
      ],
      "execution_count": 92,
      "outputs": [
        {
          "output_type": "execute_result",
          "data": {
            "text/plain": [
              "Text(0, 0.5, 'Test')"
            ]
          },
          "metadata": {
            "tags": []
          },
          "execution_count": 92
        },
        {
          "output_type": "display_data",
          "data": {
            "image/png": "[encoded data removed]",
            "text/plain": [
              "<Figure size 720x576 with 1 Axes>"
            ]
          },
          "metadata": {
            "tags": []
          }
        }
      ]
    },
    {
      "cell_type": "markdown",
      "metadata": {
        "id": "2zaGBBKwNDdY",
        "colab_type": "text"
      },
      "source": [
        "# Baseline ElsticNet Regression"
      ]
    },
    {
      "cell_type": "code",
      "metadata": {
        "id": "KMGR4koLAAuu",
        "colab_type": "code",
        "outputId": "5ce4a121-bd56-44e5-8703-a43c9d7704a2",
        "colab": {
          "base_uri": "https://localhost:8080/",
          "height": 50
        }
      },
      "source": [
        "#After doing the same on the smaller original dataset it was observed that\n",
        "#all the feature engineering helped enhance model accuracy\n",
        "X_aw.reset_index(inplace=True,drop=True)   #drop not to make additional column for index\n",
        "X_train_subset ,X_test_subset, Y_train_subset, Y_test_subset = train_test_split(X_aw, Y_aw, test_size=0.2, random_state=31)\n",
        "\n",
        "# ensure the split worked - checked how many rows there are!\n",
        "print('X_train', X_train_subset.shape,'y_train', Y_train_subset.shape)\n",
        "print('X_test ', X_test_subset.shape, 'y_test ', X_test_subset.shape)\n"
      ],
      "execution_count": 93,
      "outputs": [
        {
          "output_type": "stream",
          "text": [
            "X_train (100, 8) y_train (100,)\n",
            "X_test  (25, 8) y_test  (25, 8)\n"
          ],
          "name": "stdout"
        }
      ]
    },
    {
      "cell_type": "code",
      "metadata": {
        "id": "ri95jt6nMlJY",
        "colab_type": "code",
        "outputId": "3b203e56-80f9-4db7-b783-287f3fadd696",
        "colab": {
          "base_uri": "https://localhost:8080/",
          "height": 134
        }
      },
      "source": [
        "alphas = [0.01, 0.1, 1, 10, 100, 1000]       \n",
        "\n",
        "df_model_results_s = []\n",
        "\n",
        "# the ElasticNet on original dataset\n",
        "# training dataset\n",
        "for a in alphas:\n",
        "  model = ElasticNet(alpha=a).fit(X_train_subset, Y_train_subset)   \n",
        "  score_train = model.score(X_train_subset, Y_train_subset)\n",
        "  pred_y_simple_train = model.predict(X_train_subset)\n",
        "  mae = mean_absolute_error(Y_train_subset,pred_y_simple_train)\n",
        "  score_test = model.score(X_test_subset, Y_test_subset)\n",
        "  pred_y_simple_test = model.predict(X_test_subset)\n",
        "  mae_test = mean_absolute_error(Y_test_subset,pred_y_simple_test)\n",
        "\n",
        "  \n",
        "#Show results in a table for training and validation results.\n",
        "  df_model_results_s.append([a, score_train, score_test, mae, mae_test])\n",
        "df_model_results_s = pd.DataFrame(data=df_model_results_s, columns=['Alpha', 'Training R2', 'Test R2', 'Training MAE', 'Test MAE'])\n",
        "print(df_model_results_s)"
      ],
      "execution_count": 94,
      "outputs": [
        {
          "output_type": "stream",
          "text": [
            "     Alpha  Training R2   Test R2  Training MAE  Test MAE\n",
            "0     0.01     0.640694  0.672966      2.201683  1.804642\n",
            "1     0.10     0.638061  0.680525      2.202587  1.793387\n",
            "2     1.00     0.623941  0.702218      2.240013  1.760866\n",
            "3    10.00     0.413763  0.525454      2.701517  2.230617\n",
            "4   100.00     0.000000 -0.003528      3.480000  3.170400\n",
            "5  1000.00     0.000000 -0.003528      3.480000  3.170400\n"
          ],
          "name": "stdout"
        }
      ]
    }
  ]
}